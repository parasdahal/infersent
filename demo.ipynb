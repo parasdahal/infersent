{
 "cells": [
  {
   "cell_type": "markdown",
   "id": "9c771af7",
   "metadata": {},
   "source": [
    "# Demo and Analysis of InferSent Model"
   ]
  },
  {
   "cell_type": "code",
   "execution_count": 1,
   "id": "f0452b34",
   "metadata": {},
   "outputs": [],
   "source": [
    "import torch\n",
    "from train import NLINet\n",
    "from data import SNLIData\n",
    "from utils import download_file_from_google_drive"
   ]
  },
  {
   "cell_type": "markdown",
   "id": "e38eee96",
   "metadata": {},
   "source": [
    "## Download pretrained model\n",
    "\n",
    "Use the following file IDs to download the corresponding models.\n",
    "\n",
    "\n",
    "1. MeanEmbedding: `1q4ZRin0tKohQ504fi5HVkjDiolLZjuxg`\n",
    "2. LSTM: `1lwClDt1cNaOtOo5h-bTx-rWr7ePeIyIO`\n",
    "3. BiLSTM: `1zPZzm1EECkLdcbQ_SShhYPOrBXNu_zvz`\n",
    "4. BiLSTM-maxpool: `12BzrDODCYjMZLhld1SFcyckwAa4Vj4fL`"
   ]
  },
  {
   "cell_type": "markdown",
   "id": "331b2ade",
   "metadata": {},
   "source": [
    "Let's download the model checkpoint with file ID from above."
   ]
  },
  {
   "cell_type": "code",
   "execution_count": 16,
   "id": "ed93323a",
   "metadata": {
    "scrolled": false
   },
   "outputs": [
    {
     "name": "stderr",
     "output_type": "stream",
     "text": [
      "1564it [02:54,  8.99it/s]\n"
     ]
    }
   ],
   "source": [
    "download_file_from_google_drive('12BzrDODCYjMZLhld1SFcyckwAa4Vj4fL','meanembedding.ckpt')"
   ]
  },
  {
   "cell_type": "markdown",
   "id": "42d99e45",
   "metadata": {},
   "source": [
    "## Load the model and vocabulary"
   ]
  },
  {
   "cell_type": "markdown",
   "id": "df2b92bb",
   "metadata": {},
   "source": [
    "Let's load the model with the downloaded checkpoint file."
   ]
  },
  {
   "cell_type": "code",
   "execution_count": 2,
   "id": "0e907c4c",
   "metadata": {},
   "outputs": [
    {
     "data": {
      "text/plain": [
       "NLINet(\n",
       "  (model): InferSent(\n",
       "    (encoder): BiLSTMEncoder(\n",
       "      (embedding): Embedding(33893, 300)\n",
       "      (linear): Linear(in_features=300, out_features=1028, bias=True)\n",
       "      (relu): ReLU()\n",
       "      (projection): Sequential(\n",
       "        (0): Embedding(33893, 300)\n",
       "        (1): Linear(in_features=300, out_features=1028, bias=True)\n",
       "        (2): ReLU()\n",
       "      )\n",
       "      (lstm): LSTM(1028, 1028, batch_first=True, bidirectional=True)\n",
       "    )\n",
       "    (classifier): Classifier(\n",
       "      (lin1): Linear(in_features=8224, out_features=512, bias=True)\n",
       "      (lin2): Linear(in_features=512, out_features=512, bias=True)\n",
       "      (lin3): Linear(in_features=512, out_features=3, bias=True)\n",
       "      (relu): ReLU()\n",
       "      (net): Sequential(\n",
       "        (0): Linear(in_features=8224, out_features=512, bias=True)\n",
       "        (1): ReLU()\n",
       "        (2): Linear(in_features=512, out_features=512, bias=True)\n",
       "        (3): ReLU()\n",
       "        (4): Linear(in_features=512, out_features=3, bias=True)\n",
       "      )\n",
       "    )\n",
       "  )\n",
       "  (criterion): CrossEntropyLoss()\n",
       ")"
      ]
     },
     "execution_count": 2,
     "metadata": {},
     "output_type": "execute_result"
    }
   ],
   "source": [
    "device = torch.device(\"cuda\" if torch.cuda.is_available() else \"cpu\")\n",
    "\n",
    "model = NLINet.load_from_checkpoint('bilstm-maxpool.ckpt').to(device)\n",
    "model.eval()"
   ]
  },
  {
   "cell_type": "code",
   "execution_count": 3,
   "id": "93ed0e44",
   "metadata": {},
   "outputs": [],
   "source": [
    "data = SNLIData(batch_size=128)\n",
    "vocab = data.get_vocab()"
   ]
  },
  {
   "cell_type": "markdown",
   "id": "11dc2933",
   "metadata": {},
   "source": [
    "## Making predictions"
   ]
  },
  {
   "cell_type": "code",
   "execution_count": 12,
   "id": "2a7bddcb",
   "metadata": {},
   "outputs": [],
   "source": [
    "def get_encoded_text(text, max_len=10):\n",
    "    sent_idxs = []\n",
    "    for token in text:\n",
    "        sent_idxs.append(vocab[token])\n",
    "    # padding\n",
    "    for _ in range(len(sent_idxs) + 1, max_len + 1):\n",
    "        sent_idxs.append(vocab[\"<pad>\"])\n",
    "    embed = torch.LongTensor([sent_idxs]).to(device)\n",
    "    return model.model.encode(embed).long()\n",
    "\n",
    "def get_label(idx):\n",
    "    label_map = {0:'Entailment',1:'Contradiction',2:'Neural'}\n",
    "    return label_map[idx]"
   ]
  },
  {
   "cell_type": "markdown",
   "id": "07b86d0e",
   "metadata": {},
   "source": [
    "Now let's provide our own premise and hypothesis and see what the model predicts."
   ]
  },
  {
   "cell_type": "code",
   "execution_count": 9,
   "id": "6dbfa79a",
   "metadata": {},
   "outputs": [],
   "source": [
    "# entailment\n",
    "premise = 'A soccer game with multiple males playing.'\n",
    "hypothesis = 'Some men are playing a sport.'"
   ]
  },
  {
   "cell_type": "code",
   "execution_count": 7,
   "id": "944f1d38",
   "metadata": {},
   "outputs": [],
   "source": [
    "# contradiction\n",
    "premise = 'A black race car starts up in front of a crowd of people.'\n",
    "hypothesis = 'Some men are playing a sport.'"
   ]
  },
  {
   "cell_type": "code",
   "execution_count": 13,
   "id": "739aa828",
   "metadata": {},
   "outputs": [],
   "source": [
    "premise = 'An older and younger man smiling.'\n",
    "hypothesis = 'Two men are smiling and laughing at the cats playing on the floor.'"
   ]
  },
  {
   "cell_type": "code",
   "execution_count": 15,
   "id": "a8e80db8",
   "metadata": {},
   "outputs": [
    {
     "name": "stdout",
     "output_type": "stream",
     "text": [
      "Prediction: Entailment\n"
     ]
    }
   ],
   "source": [
    "premise_enc = get_encoded_text(premise)\n",
    "hypothesis_enc = get_encoded_text(hypothesis)\n",
    "\n",
    "out = model.model(((premise_enc,hypothesis_enc),_))\n",
    "pred = get_label(torch.argmax(torch.nn.functional.log_softmax(out, 1), 1).item())\n",
    "\n",
    "print('Prediction:', pred)"
   ]
  },
  {
   "cell_type": "code",
   "execution_count": null,
   "id": "e455ccf4",
   "metadata": {},
   "outputs": [],
   "source": []
  }
 ],
 "metadata": {
  "kernelspec": {
   "display_name": "Python 3",
   "language": "python",
   "name": "python3"
  },
  "language_info": {
   "codemirror_mode": {
    "name": "ipython",
    "version": 3
   },
   "file_extension": ".py",
   "mimetype": "text/x-python",
   "name": "python",
   "nbconvert_exporter": "python",
   "pygments_lexer": "ipython3",
   "version": "3.9.4"
  }
 },
 "nbformat": 4,
 "nbformat_minor": 5
}
