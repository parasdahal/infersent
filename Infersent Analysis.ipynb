{
 "cells": [
  {
   "cell_type": "markdown",
   "id": "9c771af7",
   "metadata": {},
   "source": [
    "# Analysis of InferSent Model"
   ]
  },
  {
   "cell_type": "code",
   "execution_count": 1,
   "id": "f0452b34",
   "metadata": {},
   "outputs": [],
   "source": [
    "import torch\n",
    "from train import NLINet\n",
    "from data import SNLIData\n",
    "from utils import download_file_from_google_drive"
   ]
  },
  {
   "cell_type": "markdown",
   "id": "e38eee96",
   "metadata": {},
   "source": [
    "## Download pretrained model\n",
    "\n",
    "Use the following file IDs to download the corresponding models.\n",
    "\n",
    "\n",
    "1. MeanEmbedding: `1q4ZRin0tKohQ504fi5HVkjDiolLZjuxg`\n",
    "2. LSTM: `1lwClDt1cNaOtOo5h-bTx-rWr7ePeIyIO`\n",
    "3. BiLSTM: `1zPZzm1EECkLdcbQ_SShhYPOrBXNu_zvz`\n",
    "4. BiLSTM-maxpool: `12BzrDODCYjMZLhld1SFcyckwAa4Vj4fL`"
   ]
  },
  {
   "cell_type": "markdown",
   "id": "331b2ade",
   "metadata": {},
   "source": [
    "Let's download the model checkpoint with file ID from above."
   ]
  },
  {
   "cell_type": "code",
   "execution_count": null,
   "id": "ed93323a",
   "metadata": {
    "scrolled": true
   },
   "outputs": [],
   "source": [
    "download_file_from_google_drive('12BzrDODCYjMZLhld1SFcyckwAa4Vj4fL','bilstm-maxpool.ckpt')\n",
    "\n",
    "checkpoint_path = 'bilstm-maxpool.ckpt'"
   ]
  },
  {
   "cell_type": "markdown",
   "id": "0cbfe6bc",
   "metadata": {},
   "source": [
    "## Evalute on SNLI test data"
   ]
  },
  {
   "cell_type": "code",
   "execution_count": 3,
   "id": "a9f49904",
   "metadata": {},
   "outputs": [
    {
     "name": "stderr",
     "output_type": "stream",
     "text": [
      "GPU available: False, used: False\n",
      "TPU available: False, using: 0 TPU cores\n"
     ]
    },
    {
     "data": {
      "application/vnd.jupyter.widget-view+json": {
       "model_id": "86b325f7add54c8dae8521ac0d074e8e",
       "version_major": 2,
       "version_minor": 0
      },
      "text/plain": [
       "Testing: 0it [00:00, ?it/s]"
      ]
     },
     "metadata": {},
     "output_type": "display_data"
    },
    {
     "name": "stdout",
     "output_type": "stream",
     "text": [
      "Final Test Accuracy: 0.8598330618892508\n",
      "--------------------------------------------------------------------------------\n",
      "DATALOADER:0 TEST RESULTS\n",
      "{'test_acc_epoch': 0.8598330618892508,\n",
      " 'test_acc_step': 0.8598330616950989,\n",
      " 'test_loss': 0.37223106622695923}\n",
      "--------------------------------------------------------------------------------\n",
      "[{'test_acc_step': 0.8598330616950989, 'test_loss': 0.37223106622695923, 'test_acc_epoch': 0.8598330618892508}]\n"
     ]
    }
   ],
   "source": [
    "from eval import snli, senteval, process_senteval_result\n",
    "\n",
    "snli(checkpoint_path)\n",
    "\n",
    "params_senteval = {\n",
    "    'task_path': './SentEval/data/',\n",
    "    'usepytorch': True,\n",
    "    'kfold': 5,\n",
    "    'classifier': {\n",
    "        'nhid': 0,\n",
    "        'optim': 'rmsprop',\n",
    "        'batch_size': 128,\n",
    "        'tenacity': 3,\n",
    "        'epoch_size': 2\n",
    "    }\n",
    "}\n",
    "\n",
    "# result_dict = senteval(checkpoint_path,\n",
    "#           params_senteval=params_senteval)\n",
    "# process_senteval_result(result_dict)"
   ]
  },
  {
   "cell_type": "markdown",
   "id": "11dc2933",
   "metadata": {},
   "source": [
    "## Making predictions"
   ]
  },
  {
   "cell_type": "code",
   "execution_count": 3,
   "id": "46a68de5",
   "metadata": {},
   "outputs": [],
   "source": [
    "device = torch.device(\"cuda\" if torch.cuda.is_available() else \"cpu\")"
   ]
  },
  {
   "cell_type": "code",
   "execution_count": 6,
   "id": "d419677d",
   "metadata": {},
   "outputs": [],
   "source": [
    "data = SNLIData(batch_size=1000)"
   ]
  },
  {
   "cell_type": "code",
   "execution_count": 4,
   "id": "6f23ce4e",
   "metadata": {},
   "outputs": [
    {
     "data": {
      "text/plain": [
       "NLINet(\n",
       "  (model): InferSent(\n",
       "    (encoder): BiLSTMEncoder(\n",
       "      (embedding): Embedding(33893, 300)\n",
       "      (linear): Linear(in_features=300, out_features=1028, bias=True)\n",
       "      (relu): ReLU()\n",
       "      (projection): Sequential(\n",
       "        (0): Embedding(33893, 300)\n",
       "        (1): Linear(in_features=300, out_features=1028, bias=True)\n",
       "        (2): ReLU()\n",
       "      )\n",
       "      (lstm): LSTM(1028, 1028, batch_first=True, bidirectional=True)\n",
       "    )\n",
       "    (classifier): Classifier(\n",
       "      (lin1): Linear(in_features=8224, out_features=512, bias=True)\n",
       "      (lin2): Linear(in_features=512, out_features=512, bias=True)\n",
       "      (lin3): Linear(in_features=512, out_features=3, bias=True)\n",
       "      (relu): ReLU()\n",
       "      (net): Sequential(\n",
       "        (0): Linear(in_features=8224, out_features=512, bias=True)\n",
       "        (1): ReLU()\n",
       "        (2): Linear(in_features=512, out_features=512, bias=True)\n",
       "        (3): ReLU()\n",
       "        (4): Linear(in_features=512, out_features=3, bias=True)\n",
       "      )\n",
       "    )\n",
       "  )\n",
       "  (criterion): CrossEntropyLoss()\n",
       ")"
      ]
     },
     "execution_count": 4,
     "metadata": {},
     "output_type": "execute_result"
    }
   ],
   "source": [
    "model = NLINet.load_from_checkpoint('./logs/infersent-logs/BiLSTM-maxpool/epoch=2-step=12875.ckpt').to(device)\n",
    "model.eval()"
   ]
  },
  {
   "cell_type": "code",
   "execution_count": 7,
   "id": "2a7bddcb",
   "metadata": {},
   "outputs": [],
   "source": [
    "import spacy\n",
    "\n",
    "vocab = data.get_vocab()\n",
    "\n",
    "def tokenize_spacy(text):\n",
    "    spacy_en = spacy.load('en_core_web_sm')\n",
    "    return [tok.text for tok in spacy_en.tokenizer(text)]\n",
    "\n",
    "def get_encoded_text(text, tokenize=True, max_len=12, verbose=True):\n",
    "    \n",
    "    # Get vocab index of each tokenized words.\n",
    "    if tokenize:\n",
    "        text = tokenize_spacy(text)\n",
    "    \n",
    "    sent_idxs = [vocab[tok] for tok in text]\n",
    "    \n",
    "    # Apply padding for consistent length.\n",
    "    for _ in range(len(sent_idxs) + 1, max_len + 1):\n",
    "        sent_idxs.append(vocab[\"<pad>\"])\n",
    "    \n",
    "    # Print tokens and idxs for debugging.\n",
    "    if verbose:\n",
    "        print(sent_idxs)\n",
    "        print([data.text.vocab.itos[i] for i in sent_idxs])\n",
    "    \n",
    "    embed = torch.LongTensor([sent_idxs]).to(device)\n",
    "    return embed\n",
    "\n",
    "def get_label(idx):\n",
    "    label_map = {0:'Entailment', 1:'Contradiction', 2:'Neutral'}\n",
    "    return label_map[idx]"
   ]
  },
  {
   "cell_type": "markdown",
   "id": "07b86d0e",
   "metadata": {},
   "source": [
    "Now let's provide our own premise and hypothesis and see what the model predicts."
   ]
  },
  {
   "cell_type": "code",
   "execution_count": 193,
   "id": "6dbfa79a",
   "metadata": {},
   "outputs": [],
   "source": [
    "# entailment\n",
    "premise = 'A soccer game with multiple males playing.'\n",
    "hypothesis = 'Some men are playing a sport.'"
   ]
  },
  {
   "cell_type": "code",
   "execution_count": 8,
   "id": "7b6a880c",
   "metadata": {},
   "outputs": [],
   "source": [
    "# contradiction\n",
    "premise = 'A black race car starts up in front of a crowd of people.'\n",
    "hypothesis = 'A man is driving down a lonely road.'"
   ]
  },
  {
   "cell_type": "code",
   "execution_count": 211,
   "id": "4aab445e",
   "metadata": {},
   "outputs": [],
   "source": [
    "# neutral\n",
    "premise = 'An older and younger man smiling.'\n",
    "hypothesis = 'Two men are smiling and laughing at the cats playing on the floor.'"
   ]
  },
  {
   "cell_type": "code",
   "execution_count": 204,
   "id": "6be96a76",
   "metadata": {},
   "outputs": [],
   "source": [
    "# entailment\n",
    "premise = 'A soccer game with multiple males playing.'\n",
    "hypothesis = 'Some men are playing a sport.'"
   ]
  },
  {
   "cell_type": "code",
   "execution_count": 41,
   "id": "11184d1f",
   "metadata": {},
   "outputs": [],
   "source": [
    "premise = 'A man is walking a dog'\n",
    "hypothesis = 'No cat is outside'"
   ]
  },
  {
   "cell_type": "code",
   "execution_count": 42,
   "id": "73105ac3",
   "metadata": {
    "scrolled": true
   },
   "outputs": [
    {
     "name": "stdout",
     "output_type": "stream",
     "text": [
      "Prediction: Contradiction\n"
     ]
    }
   ],
   "source": [
    "p = get_encoded_text(premise, verbose = False)\n",
    "h = get_encoded_text(hypothesis, verbose = False)\n",
    "\n",
    "test_data = ((p,h),_)\n",
    "\n",
    "out = model.model(test_data)\n",
    "\n",
    "pred = get_label(torch.argmax(torch.nn.functional.log_softmax(out, 1), 1).item())\n",
    "print('Prediction:', pred)"
   ]
  },
  {
   "cell_type": "markdown",
   "id": "6bb939d8",
   "metadata": {},
   "source": [
    "## Analysis of the results"
   ]
  },
  {
   "cell_type": "code",
   "execution_count": 11,
   "id": "615056fe",
   "metadata": {},
   "outputs": [],
   "source": [
    "_, test_loader, _ = data.get_iters()\n",
    "test_data = list(test_loader)"
   ]
  },
  {
   "cell_type": "code",
   "execution_count": 15,
   "id": "5265b28f",
   "metadata": {},
   "outputs": [],
   "source": [
    "\n",
    "out = model.model(test_data[0])\n",
    "\n",
    "pred = torch.argmax(torch.nn.functional.log_softmax(out, 1), 1)\n"
   ]
  },
  {
   "cell_type": "code",
   "execution_count": 21,
   "id": "b49c4d2f",
   "metadata": {},
   "outputs": [],
   "source": [
    "y_true = test_data[0].label.numpy()"
   ]
  },
  {
   "cell_type": "code",
   "execution_count": 22,
   "id": "84d0ba35",
   "metadata": {},
   "outputs": [],
   "source": [
    "y_pred = pred.numpy()"
   ]
  },
  {
   "cell_type": "code",
   "execution_count": 38,
   "id": "eeef9740",
   "metadata": {},
   "outputs": [],
   "source": [
    "import numpy as np\n",
    "from sklearn.metrics import multilabel_confusion_matrix, classification_report\n",
    "\n",
    "report = classification_report(y_true, y_pred, output_dict=True)\n",
    "cf_mat = multilabel_confusion_matrix(y_true, y_pred)"
   ]
  },
  {
   "cell_type": "code",
   "execution_count": 39,
   "id": "31ec8fef",
   "metadata": {
    "scrolled": false
   },
   "outputs": [
    {
     "data": {
      "text/plain": [
       "{'0': {'precision': 0.8956743002544529,\n",
       "  'recall': 0.9142857142857143,\n",
       "  'f1-score': 0.9048843187660669,\n",
       "  'support': 385},\n",
       " '1': {'precision': 0.9113924050632911,\n",
       "  'recall': 0.9113924050632911,\n",
       "  'f1-score': 0.9113924050632911,\n",
       "  'support': 316},\n",
       " '2': {'precision': 0.8213058419243986,\n",
       "  'recall': 0.7993311036789298,\n",
       "  'f1-score': 0.8101694915254237,\n",
       "  'support': 299},\n",
       " 'accuracy': 0.879,\n",
       " 'macro avg': {'precision': 0.8761241824140477,\n",
       "  'recall': 0.875003074342645,\n",
       "  'f1-score': 0.8754820717849272,\n",
       "  'support': 1000},\n",
       " 'weighted avg': {'precision': 0.8784050523333595,\n",
       "  'recall': 0.879,\n",
       "  'f1-score': 0.8786211406910375,\n",
       "  'support': 1000}}"
      ]
     },
     "execution_count": 39,
     "metadata": {},
     "output_type": "execute_result"
    }
   ],
   "source": [
    "report # Entailment, Contradicition, Neutral"
   ]
  },
  {
   "cell_type": "code",
   "execution_count": 40,
   "id": "0f7c8805",
   "metadata": {},
   "outputs": [
    {
     "data": {
      "text/plain": [
       "array([[[574,  41],\n",
       "        [ 33, 352]],\n",
       "\n",
       "       [[656,  28],\n",
       "        [ 28, 288]],\n",
       "\n",
       "       [[649,  52],\n",
       "        [ 60, 239]]])"
      ]
     },
     "execution_count": 40,
     "metadata": {},
     "output_type": "execute_result"
    }
   ],
   "source": [
    "# TN, FP\n",
    "# FN, TP\n",
    "\n",
    "cf_mat"
   ]
  }
 ],
 "metadata": {
  "kernelspec": {
   "display_name": "Python 3",
   "language": "python",
   "name": "python3"
  },
  "language_info": {
   "codemirror_mode": {
    "name": "ipython",
    "version": 3
   },
   "file_extension": ".py",
   "mimetype": "text/x-python",
   "name": "python",
   "nbconvert_exporter": "python",
   "pygments_lexer": "ipython3",
   "version": "3.9.4"
  }
 },
 "nbformat": 4,
 "nbformat_minor": 5
}
