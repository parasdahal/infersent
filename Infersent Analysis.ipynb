{
 "cells": [
  {
   "cell_type": "markdown",
   "id": "9c771af7",
   "metadata": {},
   "source": [
    "# Analysis of InferSent Model"
   ]
  },
  {
   "cell_type": "code",
   "execution_count": 1,
   "id": "f0452b34",
   "metadata": {},
   "outputs": [],
   "source": [
    "import torch\n",
    "from train import NLINet\n",
    "from data import SNLIData\n",
    "from utils import download_file_from_google_drive"
   ]
  },
  {
   "cell_type": "markdown",
   "id": "e38eee96",
   "metadata": {},
   "source": [
    "## Download pretrained model\n",
    "\n",
    "Use the following file IDs to download the corresponding models.\n",
    "\n",
    "\n",
    "1. MeanEmbedding: `1q4ZRin0tKohQ504fi5HVkjDiolLZjuxg`\n",
    "2. LSTM: `1lwClDt1cNaOtOo5h-bTx-rWr7ePeIyIO`\n",
    "3. BiLSTM: `1zPZzm1EECkLdcbQ_SShhYPOrBXNu_zvz`\n",
    "4. BiLSTM-maxpool: `12BzrDODCYjMZLhld1SFcyckwAa4Vj4fL`"
   ]
  },
  {
   "cell_type": "markdown",
   "id": "331b2ade",
   "metadata": {},
   "source": [
    "Let's download the model checkpoint with file ID from above."
   ]
  },
  {
   "cell_type": "code",
   "execution_count": null,
   "id": "ed93323a",
   "metadata": {
    "scrolled": true
   },
   "outputs": [],
   "source": [
    "download_file_from_google_drive('12BzrDODCYjMZLhld1SFcyckwAa4Vj4fL','bilstm-maxpool.ckpt')"
   ]
  },
  {
   "cell_type": "markdown",
   "id": "5f4f5535",
   "metadata": {},
   "source": [
    "## Evalute on SNLI test data"
   ]
  },
  {
   "cell_type": "code",
   "execution_count": 3,
   "id": "cf8dc638",
   "metadata": {},
   "outputs": [
    {
     "name": "stderr",
     "output_type": "stream",
     "text": [
      "GPU available: False, used: False\n",
      "TPU available: False, using: 0 TPU cores\n"
     ]
    },
    {
     "data": {
      "application/vnd.jupyter.widget-view+json": {
       "model_id": "86b325f7add54c8dae8521ac0d074e8e",
       "version_major": 2,
       "version_minor": 0
      },
      "text/plain": [
       "Testing: 0it [00:00, ?it/s]"
      ]
     },
     "metadata": {},
     "output_type": "display_data"
    },
    {
     "name": "stdout",
     "output_type": "stream",
     "text": [
      "Final Test Accuracy: 0.8598330618892508\n",
      "--------------------------------------------------------------------------------\n",
      "DATALOADER:0 TEST RESULTS\n",
      "{'test_acc_epoch': 0.8598330618892508,\n",
      " 'test_acc_step': 0.8598330616950989,\n",
      " 'test_loss': 0.37223106622695923}\n",
      "--------------------------------------------------------------------------------\n",
      "[{'test_acc_step': 0.8598330616950989, 'test_loss': 0.37223106622695923, 'test_acc_epoch': 0.8598330618892508}]\n"
     ]
    }
   ],
   "source": [
    "from eval import snli, senteval, process_senteval_result\n",
    "\n",
    "checkpoint_path = 'bilstm-maxpool.ckpt'\n",
    "\n",
    "snli(checkpoint_path)\n",
    "\n",
    "params_senteval = {\n",
    "    'task_path': './SentEval/data/',\n",
    "    'usepytorch': True,\n",
    "    'kfold': 5,\n",
    "    'classifier': {\n",
    "        'nhid': 0,\n",
    "        'optim': 'rmsprop',\n",
    "        'batch_size': 128,\n",
    "        'tenacity': 3,\n",
    "        'epoch_size': 2\n",
    "    }\n",
    "}\n",
    "\n",
    "# result_dict = senteval(checkpoint_path,\n",
    "#           params_senteval=params_senteval)\n",
    "# process_senteval_result(result_dict)"
   ]
  },
  {
   "cell_type": "code",
   "execution_count": 4,
   "id": "0e907c4c",
   "metadata": {},
   "outputs": [
    {
     "data": {
      "text/plain": [
       "NLINet(\n",
       "  (model): InferSent(\n",
       "    (encoder): BiLSTMEncoder(\n",
       "      (embedding): Embedding(33893, 300)\n",
       "      (linear): Linear(in_features=300, out_features=1028, bias=True)\n",
       "      (relu): ReLU()\n",
       "      (projection): Sequential(\n",
       "        (0): Embedding(33893, 300)\n",
       "        (1): Linear(in_features=300, out_features=1028, bias=True)\n",
       "        (2): ReLU()\n",
       "      )\n",
       "      (lstm): LSTM(1028, 1028, batch_first=True, bidirectional=True)\n",
       "    )\n",
       "    (classifier): Classifier(\n",
       "      (lin1): Linear(in_features=8224, out_features=512, bias=True)\n",
       "      (lin2): Linear(in_features=512, out_features=512, bias=True)\n",
       "      (lin3): Linear(in_features=512, out_features=3, bias=True)\n",
       "      (relu): ReLU()\n",
       "      (net): Sequential(\n",
       "        (0): Linear(in_features=8224, out_features=512, bias=True)\n",
       "        (1): ReLU()\n",
       "        (2): Linear(in_features=512, out_features=512, bias=True)\n",
       "        (3): ReLU()\n",
       "        (4): Linear(in_features=512, out_features=3, bias=True)\n",
       "      )\n",
       "    )\n",
       "  )\n",
       "  (criterion): CrossEntropyLoss()\n",
       ")"
      ]
     },
     "execution_count": 4,
     "metadata": {},
     "output_type": "execute_result"
    }
   ],
   "source": [
    "device = torch.device(\"cuda\" if torch.cuda.is_available() else \"cpu\")\n",
    "\n",
    "model = NLINet.load_from_checkpoint('bilstm-maxpool.ckpt').to(device)\n",
    "model.eval()"
   ]
  },
  {
   "cell_type": "code",
   "execution_count": 5,
   "id": "93ed0e44",
   "metadata": {},
   "outputs": [],
   "source": [
    "data = SNLIData(batch_size=128)\n",
    "vocab = data.get_vocab()"
   ]
  },
  {
   "cell_type": "markdown",
   "id": "11dc2933",
   "metadata": {},
   "source": [
    "## Making predictions"
   ]
  },
  {
   "cell_type": "code",
   "execution_count": 36,
   "id": "2a7bddcb",
   "metadata": {},
   "outputs": [],
   "source": [
    "import spacy\n",
    "\n",
    "def tokenize(text):\n",
    "    spacy_en = spacy.load('en_core_web_sm')\n",
    "    return [tok.text for tok in spacy_en.tokenizer(text)]\n",
    "\n",
    "def get_encoded_text(text, max_len=12, verbose=True):\n",
    "    \n",
    "    # Get vocab index of each tokenized words.\n",
    "    tokens = tokenize(text)\n",
    "    sent_idxs = [vocab[tok] for tok in tokens]\n",
    "    \n",
    "    # Apply padding for consistent length.\n",
    "    for _ in range(len(sent_idxs) + 1, max_len + 1):\n",
    "        sent_idxs.append(vocab[\"<pad>\"])\n",
    "    \n",
    "    # Print tokens and idxs for debugging.\n",
    "    if verbose:\n",
    "        print(sent_idxs)\n",
    "        print([data.text.vocab.itos[i] for i in sent_idxs])\n",
    "    \n",
    "    embed = torch.LongTensor([sent_idxs]).to(device)\n",
    "    return model.model.encode(embed).long()\n",
    "\n",
    "def get_label(idx):\n",
    "    label_map = {0:'Entailment',1:'Contradiction',2:'Neural'}\n",
    "    return label_map[idx]"
   ]
  },
  {
   "cell_type": "markdown",
   "id": "07b86d0e",
   "metadata": {},
   "source": [
    "Now let's provide our own premise and hypothesis and see what the model predicts."
   ]
  },
  {
   "cell_type": "code",
   "execution_count": 45,
   "id": "6dbfa79a",
   "metadata": {},
   "outputs": [],
   "source": [
    "# entailment\n",
    "premise = 'A soccer game with multiple males playing.'\n",
    "hypothesis = 'Some men are playing a sport.'"
   ]
  },
  {
   "cell_type": "code",
   "execution_count": 47,
   "id": "edd72186",
   "metadata": {},
   "outputs": [],
   "source": [
    "# contradiction\n",
    "premise = 'A black race car starts up in front of a crowd of people.'\n",
    "hypothesis = 'A man is driving down a lonely road.'"
   ]
  },
  {
   "cell_type": "code",
   "execution_count": 43,
   "id": "1701837c",
   "metadata": {},
   "outputs": [],
   "source": [
    "# neutral\n",
    "premise = 'An older and younger man smiling.'\n",
    "hypothesis = 'Two men are smiling and laughing at the cats playing on the floor.'"
   ]
  },
  {
   "cell_type": "code",
   "execution_count": 48,
   "id": "a8e80db8",
   "metadata": {},
   "outputs": [
    {
     "name": "stdout",
     "output_type": "stream",
     "text": [
      "[0, 30, 181, 106, 3081, 55, 5, 45, 11, 2, 86, 11, 15, 3]\n",
      "['<unk>', 'black', 'race', 'car', 'starts', 'up', 'in', 'front', 'of', 'a', 'crowd', 'of', 'people', '.']\n",
      "[0, 7, 6, 324, 39, 2, 3524, 154, 3, 1, 1, 1]\n",
      "['<unk>', 'man', 'is', 'driving', 'down', 'a', 'lonely', 'road', '.', '<pad>', '<pad>', '<pad>']\n",
      "Model output: tensor([[ 3.4195, -3.2012, -1.3253]], grad_fn=<AddmmBackward>)\n",
      "Prediction: Entailment\n"
     ]
    }
   ],
   "source": [
    "verbose = True\n",
    "premise_enc = get_encoded_text(premise, verbose=verbose)\n",
    "hypothesis_enc = get_encoded_text(hypothesis, verbose=verbose)\n",
    "\n",
    "out = model.model(((premise_enc,hypothesis_enc),_))\n",
    "print('Model output:', out)\n",
    "pred = get_label(torch.argmax(torch.nn.functional.log_softmax(out, 1), 1).item())\n",
    "\n",
    "print('Prediction:', pred)"
   ]
  },
  {
   "cell_type": "code",
   "execution_count": null,
   "id": "cb47d473",
   "metadata": {},
   "outputs": [],
   "source": []
  }
 ],
 "metadata": {
  "kernelspec": {
   "display_name": "Python 3",
   "language": "python",
   "name": "python3"
  },
  "language_info": {
   "codemirror_mode": {
    "name": "ipython",
    "version": 3
   },
   "file_extension": ".py",
   "mimetype": "text/x-python",
   "name": "python",
   "nbconvert_exporter": "python",
   "pygments_lexer": "ipython3",
   "version": "3.9.4"
  }
 },
 "nbformat": 4,
 "nbformat_minor": 5
}
